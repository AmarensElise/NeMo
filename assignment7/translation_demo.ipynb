{
  "cells": [
    {
      "cell_type": "markdown",
      "metadata": {
        "id": "wqcHnofEdenC"
      },
      "source": [
        "# Audio translator\n",
        "\n"
      ]
    },
    {
      "cell_type": "markdown",
      "metadata": {
        "id": "yLH2m2S2uLSQ"
      },
      "source": [
        "This notebook tests certain features from NeMo in the form of an audio translator. The translator takes in an audio file, and converts it into an audio file in the target language. "
      ]
    },
    {
      "cell_type": "markdown",
      "metadata": {
        "id": "wZkKGT44ub4b"
      },
      "source": [
        "# How does it work?"
      ]
    },
    {
      "cell_type": "markdown",
      "metadata": {
        "id": "4T19O-GPd1RT"
      },
      "source": [
        "The audio translator:\n",
        "\n",
        "*   Converts audio to written text using ASR\n",
        "*   Translates the written text to the target language\n",
        "*   Creates a TTS audio file in the target language from the translated text\n"
      ]
    },
    {
      "cell_type": "markdown",
      "metadata": {
        "id": "QL3G5sO6t5c1"
      },
      "source": [
        "For GPU purposes, this notebook works best on Google Colab with a recording that isn't too long (under 1 minute). \n",
        "\n",
        "If you you run into issues with your own recording, see if you can find a shorter one to check if that works. "
      ]
    },
    {
      "cell_type": "markdown",
      "metadata": {
        "id": "1xNyVHt8a4xL"
      },
      "source": [
        "# Importing the tools used"
      ]
    },
    {
      "cell_type": "markdown",
      "metadata": {
        "id": "OOpQYKqLejiy"
      },
      "source": [
        "First, let's install and import the right collections."
      ]
    },
    {
      "cell_type": "code",
      "execution_count": null,
      "metadata": {
        "id": "YygRbAXseixG"
      },
      "outputs": [],
      "source": [
        "!pip install nemo_toolkit[all]"
      ]
    },
    {
      "cell_type": "code",
      "execution_count": null,
      "metadata": {
        "colab": {
          "base_uri": "https://localhost:8080/"
        },
        "id": "HH29WALzgu0t",
        "outputId": "6e69f891-0af9-41e4-c8af-7b85770f1e48"
      },
      "outputs": [],
      "source": [
        "# From NeMo, we import the following:\n",
        "\n",
        "# Import NeMo and it's ASR, NLP and TTS collections\n",
        "import nemo\n",
        "# Import Speech Recognition collection\n",
        "import nemo.collections.asr as nemo_asr\n",
        "# Import Natural Language Processing colleciton\n",
        "import nemo.collections.nlp as nemo_nlp\n",
        "# Import Speech Synthesis collection\n",
        "import nemo.collections.tts as nemo_tts\n",
        "\n",
        "# To listen to our audio files\n",
        "import IPython"
      ]
    },
    {
      "cell_type": "markdown",
      "metadata": {
        "id": "Nyd0TtMrevAR"
      },
      "source": [
        "Next, we need to clarify which specific models from our collections we'd like to use. In our example, we use a Spanish recording as input, and we want our output to be in English."
      ]
    },
    {
      "cell_type": "markdown",
      "metadata": {
        "id": "7POYta0Iiaui"
      },
      "source": [
        "We need\n",
        "\n",
        "\n",
        "*   An ASR model in the language of our audiofile\n",
        "*   A translation model that translates from the language of our audiofile to our target language\n",
        "*   A spectogram generator in our target language\n",
        "*   A vocoder that can turn our spectogram into an audiofile\n",
        "\n",
        "\n",
        "\n"
      ]
    },
    {
      "cell_type": "code",
      "execution_count": null,
      "metadata": {
        "colab": {
          "base_uri": "https://localhost:8080/"
        },
        "id": "wl3NQEYChngZ",
        "outputId": "cb3da502-d979-454a-d5a6-9df80f883ef1"
      },
      "outputs": [],
      "source": [
        "# Speech Recognition model \n",
        "asr_model = nemo_asr.models.EncDecCTCModel.from_pretrained(model_name=\"stt_es_quartznet15x5\").cuda()\n",
        "\n",
        "# Neural Machine Translation model \n",
        "nmt_model = nemo_nlp.models.MTEncDecModel.from_pretrained(model_name='nmt_es_en_transformer12x2').cuda()\n",
        "\n",
        "# Spectrogram generator which takes text as an input and produces spectrogram\n",
        "spectrogram_generator = nemo_tts.models.FastPitchModel.from_pretrained(model_name=\"tts_en_fastpitch\").cuda()\n",
        "\n",
        "# Vocoder model which takes spectrogram and produces actual audio\n",
        "vocoder = nemo_tts.models.HifiGanModel.from_pretrained(model_name=\"tts_hifigan\").cuda()"
      ]
    },
    {
      "cell_type": "code",
      "execution_count": null,
      "metadata": {
        "id": "P3TnFykhgxXG"
      },
      "outputs": [],
      "source": [
        "# # If you'd like to use this with other models uncomment this block\n",
        "# nemo_nlp.models.MTEncDecModel.list_available_models()\n",
        "# nemo_asr.models.EncDecCTCModel.list_available_models()"
      ]
    },
    {
      "cell_type": "markdown",
      "metadata": {
        "id": "3mH2IEombe5s"
      },
      "source": [
        "# Let's start translating"
      ]
    },
    {
      "cell_type": "markdown",
      "metadata": {
        "id": "Qk7kKCcCbj2R"
      },
      "source": [
        "Add the path to the audio file you would like to have translated."
      ]
    },
    {
      "cell_type": "code",
      "execution_count": null,
      "metadata": {
        "colab": {
          "base_uri": "https://localhost:8080/"
        },
        "id": "lrA_O8t6f9wC",
        "outputId": "c706e857-70b8-42fe-bb08-9c90de53bcbd"
      },
      "outputs": [],
      "source": [
        "# Feel free to add your own audio here, but if you don't have an audio sample yet, you can use the following\n",
        "!wget 'https://www.lightbulblanguages.co.uk/resources/sp-audio/tengo-once-anos.mp3'"
      ]
    },
    {
      "cell_type": "code",
      "execution_count": null,
      "metadata": {
        "colab": {
          "base_uri": "https://localhost:8080/",
          "height": 74
        },
        "id": "GvU8erXghAwl",
        "outputId": "aa5d7549-709a-4846-ff11-ad0d6729bfe7"
      },
      "outputs": [
        {
          "data": {
            "text/html": [
              "\n",
              "                <audio controls=\"controls\" >\n",
              "                    <source src=\"data:audio/mpeg;base64,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\" type=\"audio/mpeg\" />\n",
              "                    Your browser does not support the audio element.\n",
              "                </audio>\n",
              "              "
            ],
            "text/plain": [
              "<IPython.lib.display.Audio object>"
            ]
          },
          "execution_count": 43,
          "metadata": {},
          "output_type": "execute_result"
        }
      ],
      "source": [
        "# Download audio sample which we'll try\n",
        "# IMPORTANT: The audio must be mono with 16Khz sampling rate\n",
        "audio_sample = 'tengo-once-anos.mp3'\n",
        "\n",
        "# To listen it, click on the play button below\n",
        "IPython.display.Audio(audio_sample)"
      ]
    },
    {
      "cell_type": "markdown",
      "metadata": {
        "id": "BQx2xF96bsnz"
      },
      "source": [
        "Next, we'll transcribe the text from the audio sample and print the transcribed text. "
      ]
    },
    {
      "cell_type": "code",
      "execution_count": null,
      "metadata": {
        "colab": {
          "base_uri": "https://localhost:8080/",
          "height": 66,
          "referenced_widgets": [
            "31226abb017a49c09909896158b8a0e3",
            "1a6439bd41c94c90bd73e70341ea44ea",
            "52bcea4048564cf3ad0d17b5f3f122f9",
            "b2bc0180f42346bda3f3900efe426efb",
            "492a5168f9db45c0b3d4b8569f4d212e",
            "e570f79ce1a64d34a3b1769b7c3ee870",
            "125a716bbb3d49558164c92746f56cad",
            "7d813941b6e34a838af71e41ee869b12",
            "2b63f454497f4816bd3910e093f67f69",
            "f6bbc8ec146441dd86e4e667dcc19f9e",
            "552547e360bd43a0baf3f72ca7552834"
          ]
        },
        "id": "Bp6gD_AChOXy",
        "outputId": "bd84420b-4951-48ba-9fbb-c073bdd288b0"
      },
      "outputs": [
        {
          "data": {
            "application/vnd.jupyter.widget-view+json": {
              "model_id": "31226abb017a49c09909896158b8a0e3",
              "version_major": 2,
              "version_minor": 0
            },
            "text/plain": [
              "Transcribing:   0%|          | 0/1 [00:00<?, ?it/s]"
            ]
          },
          "metadata": {},
          "output_type": "display_data"
        },
        {
          "name": "stdout",
          "output_type": "stream",
          "text": [
            "['tengo once años']\n"
          ]
        }
      ],
      "source": [
        "transcribed_text = asr_model.transcribe([audio_sample])\n",
        "print(transcribed_text)"
      ]
    },
    {
      "cell_type": "markdown",
      "metadata": {
        "id": "iP3UhV3_bxvu"
      },
      "source": [
        "Then, we translate the transcribed text to our target language."
      ]
    },
    {
      "cell_type": "code",
      "execution_count": null,
      "metadata": {
        "colab": {
          "base_uri": "https://localhost:8080/"
        },
        "id": "07BvupNEhQiK",
        "outputId": "efd0d68d-4b90-40d8-9fb1-43560153844a"
      },
      "outputs": [
        {
          "name": "stdout",
          "output_type": "stream",
          "text": [
            "[\"I'm eleven years old\"]\n"
          ]
        }
      ],
      "source": [
        "english_text = nmt_model.translate(transcribed_text)\n",
        "print(english_text)"
      ]
    },
    {
      "cell_type": "markdown",
      "metadata": {
        "id": "NfbKr4UDb4j-"
      },
      "source": [
        "Lastly, we convert the translated into speech using a spectogram generator and a vocoder. "
      ]
    },
    {
      "cell_type": "code",
      "execution_count": null,
      "metadata": {
        "id": "xo_tWO5shSbg"
      },
      "outputs": [],
      "source": [
        "# A helper function which combines FastPitch and HifiGan to go directly from \n",
        "# text to audio\n",
        "def text_to_audio(text):\n",
        "  parsed = spectrogram_generator.parse(text)\n",
        "  spectrogram = spectrogram_generator.generate_spectrogram(tokens=parsed)\n",
        "  audio = vocoder.convert_spectrogram_to_audio(spec=spectrogram)\n",
        "  return audio.to('cpu').detach().numpy()"
      ]
    },
    {
      "cell_type": "markdown",
      "metadata": {
        "id": "QYWM_kc7cENY"
      },
      "source": [
        "Now we have our output"
      ]
    },
    {
      "cell_type": "code",
      "execution_count": null,
      "metadata": {
        "colab": {
          "base_uri": "https://localhost:8080/",
          "height": 74
        },
        "id": "0umai3lahUbe",
        "outputId": "a90831c3-1d31-443c-abd1-506bc6dad139"
      },
      "outputs": [
        {
          "data": {
            "text/html": [
              "\n",
              "                <audio controls=\"controls\" >\n",
              "                    <source src=\"data:audio/wav;base64,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\" type=\"audio/wav\" />\n",
              "                    Your browser does not support the audio element.\n",
              "                </audio>\n",
              "              "
            ],
            "text/plain": [
              "<IPython.lib.display.Audio object>"
            ]
          },
          "execution_count": 47,
          "metadata": {},
          "output_type": "execute_result"
        }
      ],
      "source": [
        "# Listen to generated audio in English\n",
        "IPython.display.Audio(text_to_audio(english_text[0]), rate=22050)"
      ]
    }
  ],
  "metadata": {
    "accelerator": "GPU",
    "colab": {
      "collapsed_sections": [],
      "name": "translation_demo.ipynb",
      "provenance": []
    },
    "interpreter": {
      "hash": "a71b9f7e6a45f54911bb42889281afe65a8bc064bafd05b636403945a788ffbb"
    },
    "kernelspec": {
      "display_name": "Python 3.9.7 64-bit",
      "name": "python3"
    },
    "language_info": {
      "codemirror_mode": {
        "name": "ipython",
        "version": 3
      },
      "file_extension": ".py",
      "mimetype": "text/x-python",
      "name": "python",
      "nbconvert_exporter": "python",
      "pygments_lexer": "ipython3",
      "version": "3.9.7"
    },
    "widgets": {
      "application/vnd.jupyter.widget-state+json": {
        "125a716bbb3d49558164c92746f56cad": {
          "model_module": "@jupyter-widgets/base",
          "model_module_version": "1.2.0",
          "model_name": "LayoutModel",
          "state": {
            "_model_module": "@jupyter-widgets/base",
            "_model_module_version": "1.2.0",
            "_model_name": "LayoutModel",
            "_view_count": null,
            "_view_module": "@jupyter-widgets/base",
            "_view_module_version": "1.2.0",
            "_view_name": "LayoutView",
            "align_content": null,
            "align_items": null,
            "align_self": null,
            "border": null,
            "bottom": null,
            "display": null,
            "flex": null,
            "flex_flow": null,
            "grid_area": null,
            "grid_auto_columns": null,
            "grid_auto_flow": null,
            "grid_auto_rows": null,
            "grid_column": null,
            "grid_gap": null,
            "grid_row": null,
            "grid_template_areas": null,
            "grid_template_columns": null,
            "grid_template_rows": null,
            "height": null,
            "justify_content": null,
            "justify_items": null,
            "left": null,
            "margin": null,
            "max_height": null,
            "max_width": null,
            "min_height": null,
            "min_width": null,
            "object_fit": null,
            "object_position": null,
            "order": null,
            "overflow": null,
            "overflow_x": null,
            "overflow_y": null,
            "padding": null,
            "right": null,
            "top": null,
            "visibility": null,
            "width": null
          }
        },
        "1a6439bd41c94c90bd73e70341ea44ea": {
          "model_module": "@jupyter-widgets/base",
          "model_module_version": "1.2.0",
          "model_name": "LayoutModel",
          "state": {
            "_model_module": "@jupyter-widgets/base",
            "_model_module_version": "1.2.0",
            "_model_name": "LayoutModel",
            "_view_count": null,
            "_view_module": "@jupyter-widgets/base",
            "_view_module_version": "1.2.0",
            "_view_name": "LayoutView",
            "align_content": null,
            "align_items": null,
            "align_self": null,
            "border": null,
            "bottom": null,
            "display": null,
            "flex": null,
            "flex_flow": null,
            "grid_area": null,
            "grid_auto_columns": null,
            "grid_auto_flow": null,
            "grid_auto_rows": null,
            "grid_column": null,
            "grid_gap": null,
            "grid_row": null,
            "grid_template_areas": null,
            "grid_template_columns": null,
            "grid_template_rows": null,
            "height": null,
            "justify_content": null,
            "justify_items": null,
            "left": null,
            "margin": null,
            "max_height": null,
            "max_width": null,
            "min_height": null,
            "min_width": null,
            "object_fit": null,
            "object_position": null,
            "order": null,
            "overflow": null,
            "overflow_x": null,
            "overflow_y": null,
            "padding": null,
            "right": null,
            "top": null,
            "visibility": null,
            "width": null
          }
        },
        "2b63f454497f4816bd3910e093f67f69": {
          "model_module": "@jupyter-widgets/base",
          "model_module_version": "1.2.0",
          "model_name": "LayoutModel",
          "state": {
            "_model_module": "@jupyter-widgets/base",
            "_model_module_version": "1.2.0",
            "_model_name": "LayoutModel",
            "_view_count": null,
            "_view_module": "@jupyter-widgets/base",
            "_view_module_version": "1.2.0",
            "_view_name": "LayoutView",
            "align_content": null,
            "align_items": null,
            "align_self": null,
            "border": null,
            "bottom": null,
            "display": null,
            "flex": null,
            "flex_flow": null,
            "grid_area": null,
            "grid_auto_columns": null,
            "grid_auto_flow": null,
            "grid_auto_rows": null,
            "grid_column": null,
            "grid_gap": null,
            "grid_row": null,
            "grid_template_areas": null,
            "grid_template_columns": null,
            "grid_template_rows": null,
            "height": null,
            "justify_content": null,
            "justify_items": null,
            "left": null,
            "margin": null,
            "max_height": null,
            "max_width": null,
            "min_height": null,
            "min_width": null,
            "object_fit": null,
            "object_position": null,
            "order": null,
            "overflow": null,
            "overflow_x": null,
            "overflow_y": null,
            "padding": null,
            "right": null,
            "top": null,
            "visibility": null,
            "width": null
          }
        },
        "31226abb017a49c09909896158b8a0e3": {
          "model_module": "@jupyter-widgets/controls",
          "model_module_version": "1.5.0",
          "model_name": "HBoxModel",
          "state": {
            "_dom_classes": [],
            "_model_module": "@jupyter-widgets/controls",
            "_model_module_version": "1.5.0",
            "_model_name": "HBoxModel",
            "_view_count": null,
            "_view_module": "@jupyter-widgets/controls",
            "_view_module_version": "1.5.0",
            "_view_name": "HBoxView",
            "box_style": "",
            "children": [
              "IPY_MODEL_52bcea4048564cf3ad0d17b5f3f122f9",
              "IPY_MODEL_b2bc0180f42346bda3f3900efe426efb",
              "IPY_MODEL_492a5168f9db45c0b3d4b8569f4d212e"
            ],
            "layout": "IPY_MODEL_1a6439bd41c94c90bd73e70341ea44ea"
          }
        },
        "492a5168f9db45c0b3d4b8569f4d212e": {
          "model_module": "@jupyter-widgets/controls",
          "model_module_version": "1.5.0",
          "model_name": "HTMLModel",
          "state": {
            "_dom_classes": [],
            "_model_module": "@jupyter-widgets/controls",
            "_model_module_version": "1.5.0",
            "_model_name": "HTMLModel",
            "_view_count": null,
            "_view_module": "@jupyter-widgets/controls",
            "_view_module_version": "1.5.0",
            "_view_name": "HTMLView",
            "description": "",
            "description_tooltip": null,
            "layout": "IPY_MODEL_552547e360bd43a0baf3f72ca7552834",
            "placeholder": "​",
            "style": "IPY_MODEL_f6bbc8ec146441dd86e4e667dcc19f9e",
            "value": " 1/1 [00:00&lt;00:00,  1.71it/s]"
          }
        },
        "52bcea4048564cf3ad0d17b5f3f122f9": {
          "model_module": "@jupyter-widgets/controls",
          "model_module_version": "1.5.0",
          "model_name": "HTMLModel",
          "state": {
            "_dom_classes": [],
            "_model_module": "@jupyter-widgets/controls",
            "_model_module_version": "1.5.0",
            "_model_name": "HTMLModel",
            "_view_count": null,
            "_view_module": "@jupyter-widgets/controls",
            "_view_module_version": "1.5.0",
            "_view_name": "HTMLView",
            "description": "",
            "description_tooltip": null,
            "layout": "IPY_MODEL_125a716bbb3d49558164c92746f56cad",
            "placeholder": "​",
            "style": "IPY_MODEL_e570f79ce1a64d34a3b1769b7c3ee870",
            "value": "Transcribing: 100%"
          }
        },
        "552547e360bd43a0baf3f72ca7552834": {
          "model_module": "@jupyter-widgets/base",
          "model_module_version": "1.2.0",
          "model_name": "LayoutModel",
          "state": {
            "_model_module": "@jupyter-widgets/base",
            "_model_module_version": "1.2.0",
            "_model_name": "LayoutModel",
            "_view_count": null,
            "_view_module": "@jupyter-widgets/base",
            "_view_module_version": "1.2.0",
            "_view_name": "LayoutView",
            "align_content": null,
            "align_items": null,
            "align_self": null,
            "border": null,
            "bottom": null,
            "display": null,
            "flex": null,
            "flex_flow": null,
            "grid_area": null,
            "grid_auto_columns": null,
            "grid_auto_flow": null,
            "grid_auto_rows": null,
            "grid_column": null,
            "grid_gap": null,
            "grid_row": null,
            "grid_template_areas": null,
            "grid_template_columns": null,
            "grid_template_rows": null,
            "height": null,
            "justify_content": null,
            "justify_items": null,
            "left": null,
            "margin": null,
            "max_height": null,
            "max_width": null,
            "min_height": null,
            "min_width": null,
            "object_fit": null,
            "object_position": null,
            "order": null,
            "overflow": null,
            "overflow_x": null,
            "overflow_y": null,
            "padding": null,
            "right": null,
            "top": null,
            "visibility": null,
            "width": null
          }
        },
        "7d813941b6e34a838af71e41ee869b12": {
          "model_module": "@jupyter-widgets/controls",
          "model_module_version": "1.5.0",
          "model_name": "ProgressStyleModel",
          "state": {
            "_model_module": "@jupyter-widgets/controls",
            "_model_module_version": "1.5.0",
            "_model_name": "ProgressStyleModel",
            "_view_count": null,
            "_view_module": "@jupyter-widgets/base",
            "_view_module_version": "1.2.0",
            "_view_name": "StyleView",
            "bar_color": null,
            "description_width": ""
          }
        },
        "b2bc0180f42346bda3f3900efe426efb": {
          "model_module": "@jupyter-widgets/controls",
          "model_module_version": "1.5.0",
          "model_name": "FloatProgressModel",
          "state": {
            "_dom_classes": [],
            "_model_module": "@jupyter-widgets/controls",
            "_model_module_version": "1.5.0",
            "_model_name": "FloatProgressModel",
            "_view_count": null,
            "_view_module": "@jupyter-widgets/controls",
            "_view_module_version": "1.5.0",
            "_view_name": "ProgressView",
            "bar_style": "success",
            "description": "",
            "description_tooltip": null,
            "layout": "IPY_MODEL_2b63f454497f4816bd3910e093f67f69",
            "max": 1,
            "min": 0,
            "orientation": "horizontal",
            "style": "IPY_MODEL_7d813941b6e34a838af71e41ee869b12",
            "value": 1
          }
        },
        "e570f79ce1a64d34a3b1769b7c3ee870": {
          "model_module": "@jupyter-widgets/controls",
          "model_module_version": "1.5.0",
          "model_name": "DescriptionStyleModel",
          "state": {
            "_model_module": "@jupyter-widgets/controls",
            "_model_module_version": "1.5.0",
            "_model_name": "DescriptionStyleModel",
            "_view_count": null,
            "_view_module": "@jupyter-widgets/base",
            "_view_module_version": "1.2.0",
            "_view_name": "StyleView",
            "description_width": ""
          }
        },
        "f6bbc8ec146441dd86e4e667dcc19f9e": {
          "model_module": "@jupyter-widgets/controls",
          "model_module_version": "1.5.0",
          "model_name": "DescriptionStyleModel",
          "state": {
            "_model_module": "@jupyter-widgets/controls",
            "_model_module_version": "1.5.0",
            "_model_name": "DescriptionStyleModel",
            "_view_count": null,
            "_view_module": "@jupyter-widgets/base",
            "_view_module_version": "1.2.0",
            "_view_name": "StyleView",
            "description_width": ""
          }
        }
      }
    }
  },
  "nbformat": 4,
  "nbformat_minor": 0
}
